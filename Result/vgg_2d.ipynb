{
 "cells": [
  {
   "cell_type": "code",
   "execution_count": 11,
   "metadata": {
    "collapsed": false
   },
   "outputs": [],
   "source": [
    "#%autoreload\n",
    "from keras.preprocessing import image\n",
    "from keras import applications\n",
    "from keras.models import Sequential\n",
    "from keras.applications import vgg16\n",
    "from keras.applications.vgg16 import VGG16\n",
    "from keras.applications.vgg16 import preprocess_input\n",
    "from keras.models import Model\n",
    "from keras.layers import Conv2D, Conv3D,Input, ZeroPadding3D, Reshape\n",
    "from keras.layers.convolutional import Convolution2D, Convolution3D, MaxPooling2D, ZeroPadding2D,ZeroPadding3D \n",
    "from keras.layers.core import Reshape\n",
    "import os\n",
    "from keras.utils import np_utils\n",
    "from keras.preprocessing.image import ImageDataGenerator\n",
    "from keras.models import Sequential\n",
    "from keras.callbacks import CSVLogger\n",
    "from keras.models import Sequential\n",
    "from keras.layers.core import Flatten, Dense, Dropout\n",
    "from keras.optimizers import SGD\n",
    "import numpy as np\n",
    "import keras\n",
    "import keras.backend as K\n",
    "#import imp\n",
    "#imp.reload(parse_data)"
   ]
  },
  {
   "cell_type": "code",
   "execution_count": 12,
   "metadata": {
    "collapsed": true
   },
   "outputs": [],
   "source": [
    "def mean_pred(y_true, y_pred):\n",
    "    return keras.backend.l2_normalize(y_pred-y_true, axis=None)\n",
    "   # return np.linalg.norm(y_pred-y_true)/np.linalg.norm(y_true)"
   ]
  },
  {
   "cell_type": "code",
   "execution_count": 13,
   "metadata": {
    "collapsed": false
   },
   "outputs": [
    {
     "name": "stdout",
     "output_type": "stream",
     "text": [
      "_________________________________________________________________\n",
      "Layer (type)                 Output Shape              Param #   \n",
      "=================================================================\n",
      "input_6 (InputLayer)         (None, 299, 299, 4)       0         \n",
      "_________________________________________________________________\n",
      "conv2d_3 (Conv2D)            (None, 297, 297, 3)       111       \n",
      "_________________________________________________________________\n",
      "zero_padding2d_3 (ZeroPaddin (None, 299, 299, 3)       0         \n",
      "_________________________________________________________________\n",
      "reshape_3 (Reshape)          (None, 299, 299, 3)       0         \n",
      "_________________________________________________________________\n",
      "vgg16 (Model)                (None, 9, 9, 512)         14714688  \n",
      "_________________________________________________________________\n",
      "flatten_3 (Flatten)          (None, 41472)             0         \n",
      "_________________________________________________________________\n",
      "my_dense_2 (Dense)           (None, 1024)              42468352  \n",
      "_________________________________________________________________\n",
      "dense_5 (Dense)              (None, 512)               524800    \n",
      "_________________________________________________________________\n",
      "dense_6 (Dense)              (None, 3)                 1539      \n",
      "=================================================================\n",
      "Total params: 57,709,490\n",
      "Trainable params: 57,709,490\n",
      "Non-trainable params: 0\n",
      "_________________________________________________________________\n"
     ]
    }
   ],
   "source": [
    "model_vgg16 = vgg16.VGG16(weights='imagenet', include_top=False, input_shape=(299,299,3))\n",
    "input_x = Input((299,299,4))\n",
    "x = Conv2D(3,(3,3), activation='relu', data_format=\"channels_last\")(input_x)\n",
    "x = ZeroPadding2D((1,1))(x)\n",
    "x = Reshape((299,299,3))(x)\n",
    "x = model_vgg16(x)\n",
    "\n",
    "flatten = Flatten()\n",
    "new_layer2 = Dense(1024, activation='relu', name='my_dense_2')\n",
    "out2 = new_layer2(flatten(x))\n",
    "x = Dense(512, activation='relu')(out2)\n",
    "preds = Dense(3, activation = 'relu')(x)\n",
    "\n",
    "model_start = Model(input_x, preds)\n",
    "model_start.compile(loss='mean_squared_error', optimizer=SGD(lr=1e-4, momentum=0.9),\n",
    "            metrics=[mean_pred])\n",
    "model_start.summary()"
   ]
  },
  {
   "cell_type": "code",
   "execution_count": 15,
   "metadata": {
    "collapsed": false
   },
   "outputs": [
    {
     "data": {
      "text/plain": [
       "['loss', 'mean_pred']"
      ]
     },
     "execution_count": 15,
     "metadata": {},
     "output_type": "execute_result"
    }
   ],
   "source": [
    "model_start.metrics_names"
   ]
  },
  {
   "cell_type": "code",
   "execution_count": null,
   "metadata": {
    "collapsed": false
   },
   "outputs": [],
   "source": [
    "object_path = \"/home/zhouzixuan/proj/data/train/35/\"\n",
    "dev_path = \"/home/zhouzixuan/proj/data/dev/35/\"\n",
    "filename =\"vgg\"\n",
    "rescale=1. / 255\n",
    "img_width, img_height = 299, 299\n",
    "# d_batch = np.load(object_path+str(19)+\"_d.npy\")\n",
    "# x_batch = np.load(object_path+str(19)+\"_x.npy\")\n",
    "# d_round = np.floor(d_batch/51)\n",
    "# d_round = d_round.astype(np.int)\n",
    "# x_batch = np.load(object_path+str(19)+\"_y.npy\")\n",
    "# print x_batch.shape\n",
    "# X = (np.concatenate((x_batch,np.expand_dims(d_batch, axis=3)), axis=3))\n",
    "# print X.shape"
   ]
  },
  {
   "cell_type": "code",
   "execution_count": null,
   "metadata": {
    "collapsed": true
   },
   "outputs": [],
   "source": [
    "dev_num = 7\n",
    "X_dev = np.empty([0,299,299,4])\n",
    "y_dev = np.empty([0,3])\n",
    "for k in range(dev_num):\n",
    "    x_dev = np.load(dev_path+str(60+k)+\"_x.npy\") * rescale\n",
    "    d_dev = np.load(dev_path+str(60+k)+\"_d.npy\")\n",
    "    tmp1 = (np.concatenate((x_dev,np.expand_dims(d_dev, axis=3)), axis=3)) \n",
    "    X_dev = np.vstack([X_dev, tmp1])\n",
    "    tmp2 = np.load(dev_path+str(60+k)+\"_y.npy\")\n",
    "    y_dev = np.vstack([y_dev, tmp2])\n",
    "print y_dev.shape\n",
    "print X_dev.shape"
   ]
  },
  {
   "cell_type": "code",
   "execution_count": 9,
   "metadata": {
    "collapsed": true
   },
   "outputs": [],
   "source": [
    "def train(model):\n",
    "\n",
    "    fh = open(filename + 'report.txt','w')\n",
    "    csv_logger = CSVLogger('logvgg.csv', append=True, separator=';')      \n",
    "    batch = 32\n",
    "    epochs = 20\n",
    "    batch_num = 60\n",
    "    rescale=1. / 255      \n",
    "    for e in range(epochs):\n",
    "        print('Epoch', e)\n",
    "        batches = 0\n",
    "        for b in range(batch_num):\n",
    "            x_batch = np.load(object_path+str(b)+\"_x.npy\") * rescale\n",
    "            d_batch = np.load(object_path+str(b)+\"_d.npy\")\n",
    "            X = (np.concatenate((x_batch,np.expand_dims(d_batch, axis=3)), axis=3))           \n",
    "            y_batch = np.load(object_path+str(b)+\"_y.npy\")\n",
    "            model.fit(X, y_batch,validation_data=(X_dev, y_dev))"
   ]
  },
  {
   "cell_type": "code",
   "execution_count": 10,
   "metadata": {
    "collapsed": false
   },
   "outputs": [
    {
     "name": "stdout",
     "output_type": "stream",
     "text": [
      "('Epoch', 0)\n",
      "Epoch 1/1\n",
      "32/32 [==============================] - 80s 2s/step - loss: 2.2666 - mean_pred: -1.3020\n",
      "Epoch 1/1\n",
      "32/32 [==============================] - 72s 2s/step - loss: 1.8181 - mean_pred: 7.8463\n",
      "Epoch 1/1\n",
      "32/32 [==============================] - 72s 2s/step - loss: 1.3569 - mean_pred: -0.8650\n",
      "Epoch 1/1\n",
      "32/32 [==============================] - 72s 2s/step - loss: 0.8445 - mean_pred: -1.0975\n",
      "Epoch 1/1\n",
      "32/32 [==============================] - 72s 2s/step - loss: 0.7041 - mean_pred: -0.9521\n",
      "Epoch 1/1\n",
      "32/32 [==============================] - 72s 2s/step - loss: 0.8263 - mean_pred: -0.7008\n",
      "Epoch 1/1\n",
      "32/32 [==============================] - 72s 2s/step - loss: 0.9460 - mean_pred: -0.5474\n",
      "Epoch 1/1\n",
      "32/32 [==============================] - 72s 2s/step - loss: 0.8218 - mean_pred: -0.6775\n",
      "Epoch 1/1\n",
      "32/32 [==============================] - 72s 2s/step - loss: 0.6031 - mean_pred: -0.9409\n",
      "Epoch 1/1\n",
      "32/32 [==============================] - 72s 2s/step - loss: 0.4318 - mean_pred: -1.2437\n",
      "Epoch 1/1\n",
      "32/32 [==============================] - 72s 2s/step - loss: 0.5192 - mean_pred: -1.3785\n",
      "Epoch 1/1\n",
      "32/32 [==============================] - 72s 2s/step - loss: 0.6420 - mean_pred: -1.1675\n",
      "Epoch 1/1\n",
      "32/32 [==============================] - 72s 2s/step - loss: 0.5386 - mean_pred: -1.3359\n",
      "Epoch 1/1\n",
      "32/32 [==============================] - 72s 2s/step - loss: 0.3776 - mean_pred: -1.4033\n",
      "Epoch 1/1\n",
      "32/32 [==============================] - 72s 2s/step - loss: 0.4571 - mean_pred: -1.2281\n",
      "Epoch 1/1\n",
      "32/32 [==============================] - 72s 2s/step - loss: 0.4331 - mean_pred: -1.1171\n",
      "Epoch 1/1\n",
      "32/32 [==============================] - 72s 2s/step - loss: 0.5482 - mean_pred: -1.0517\n",
      "Epoch 1/1\n",
      "32/32 [==============================] - 72s 2s/step - loss: 0.5350 - mean_pred: -0.9213\n",
      "Epoch 1/1\n",
      "32/32 [==============================] - 72s 2s/step - loss: 0.4090 - mean_pred: -1.1482\n",
      "Epoch 1/1\n",
      "32/32 [==============================] - 72s 2s/step - loss: 0.4655 - mean_pred: -1.2694\n",
      "Epoch 1/1\n",
      "32/32 [==============================] - 72s 2s/step - loss: 0.3982 - mean_pred: -1.4012\n",
      "Epoch 1/1\n",
      "32/32 [==============================] - 72s 2s/step - loss: 0.4265 - mean_pred: -1.2473\n",
      "Epoch 1/1\n",
      "32/32 [==============================] - 72s 2s/step - loss: 0.4529 - mean_pred: -1.3326\n",
      "Epoch 1/1\n",
      "32/32 [==============================] - 72s 2s/step - loss: 0.4728 - mean_pred: -1.3162\n",
      "Epoch 1/1\n",
      "32/32 [==============================] - 72s 2s/step - loss: 0.3489 - mean_pred: -1.5495\n",
      "Epoch 1/1\n",
      "32/32 [==============================] - 73s 2s/step - loss: 0.4612 - mean_pred: -1.2390\n",
      "Epoch 1/1\n",
      "32/32 [==============================] - 73s 2s/step - loss: 0.4799 - mean_pred: -1.0659\n",
      "Epoch 1/1\n",
      "32/32 [==============================] - 72s 2s/step - loss: 0.3830 - mean_pred: -1.3557\n",
      "Epoch 1/1\n",
      "32/32 [==============================] - 72s 2s/step - loss: 0.3900 - mean_pred: -1.3768\n",
      "Epoch 1/1\n",
      "32/32 [==============================] - 72s 2s/step - loss: 0.3767 - mean_pred: -1.2230\n",
      "Epoch 1/1\n",
      "32/32 [==============================] - 72s 2s/step - loss: 0.3870 - mean_pred: -1.3773\n",
      "Epoch 1/1\n",
      "32/32 [==============================] - 144s 4s/step - loss: 0.4432 - mean_pred: -1.1972\n",
      "Epoch 1/1\n",
      "32/32 [==============================] - 153s 5s/step - loss: 0.4156 - mean_pred: -1.2314\n",
      "Epoch 1/1\n",
      "32/32 [==============================] - 150s 5s/step - loss: 0.4282 - mean_pred: -1.1744\n",
      "Epoch 1/1\n",
      "32/32 [==============================] - 135s 4s/step - loss: 0.4691 - mean_pred: -0.8836\n",
      "Epoch 1/1\n",
      "32/32 [==============================] - 72s 2s/step - loss: 0.4417 - mean_pred: -1.3010\n",
      "Epoch 1/1\n",
      "32/32 [==============================] - 72s 2s/step - loss: 0.3822 - mean_pred: -0.9279\n",
      "Epoch 1/1\n",
      "32/32 [==============================] - 72s 2s/step - loss: 0.4733 - mean_pred: -1.2284\n",
      "Epoch 1/1\n"
     ]
    },
    {
     "ename": "KeyboardInterrupt",
     "evalue": "",
     "output_type": "error",
     "traceback": [
      "\u001b[0;31m---------------------------------------------------------------------------\u001b[0m",
      "\u001b[0;31mKeyboardInterrupt\u001b[0m                         Traceback (most recent call last)",
      "\u001b[0;32m<ipython-input-10-dc03f189329c>\u001b[0m in \u001b[0;36m<module>\u001b[0;34m()\u001b[0m\n\u001b[0;32m----> 1\u001b[0;31m \u001b[0mtrain\u001b[0m\u001b[0;34m(\u001b[0m\u001b[0mmodel_start\u001b[0m\u001b[0;34m)\u001b[0m\u001b[0;34m\u001b[0m\u001b[0m\n\u001b[0m",
      "\u001b[0;32m<ipython-input-9-b72d773e08db>\u001b[0m in \u001b[0;36mtrain\u001b[0;34m(model)\u001b[0m\n\u001b[1;32m     32\u001b[0m             \u001b[0mX\u001b[0m \u001b[0;34m=\u001b[0m \u001b[0;34m(\u001b[0m\u001b[0mnp\u001b[0m\u001b[0;34m.\u001b[0m\u001b[0mconcatenate\u001b[0m\u001b[0;34m(\u001b[0m\u001b[0;34m(\u001b[0m\u001b[0mx_batch\u001b[0m\u001b[0;34m,\u001b[0m\u001b[0mnp\u001b[0m\u001b[0;34m.\u001b[0m\u001b[0mexpand_dims\u001b[0m\u001b[0;34m(\u001b[0m\u001b[0md_batch\u001b[0m\u001b[0;34m,\u001b[0m \u001b[0maxis\u001b[0m\u001b[0;34m=\u001b[0m\u001b[0;36m3\u001b[0m\u001b[0;34m)\u001b[0m\u001b[0;34m)\u001b[0m\u001b[0;34m,\u001b[0m \u001b[0maxis\u001b[0m\u001b[0;34m=\u001b[0m\u001b[0;36m3\u001b[0m\u001b[0;34m)\u001b[0m\u001b[0;34m)\u001b[0m\u001b[0;34m\u001b[0m\u001b[0m\n\u001b[1;32m     33\u001b[0m             \u001b[0my_batch\u001b[0m \u001b[0;34m=\u001b[0m \u001b[0mnp\u001b[0m\u001b[0;34m.\u001b[0m\u001b[0mload\u001b[0m\u001b[0;34m(\u001b[0m\u001b[0mobject_path\u001b[0m\u001b[0;34m+\u001b[0m\u001b[0mstr\u001b[0m\u001b[0;34m(\u001b[0m\u001b[0mb\u001b[0m\u001b[0;34m)\u001b[0m\u001b[0;34m+\u001b[0m\u001b[0;34m\"_y.npy\"\u001b[0m\u001b[0;34m)\u001b[0m\u001b[0;34m\u001b[0m\u001b[0m\n\u001b[0;32m---> 34\u001b[0;31m             \u001b[0mmodel\u001b[0m\u001b[0;34m.\u001b[0m\u001b[0mfit\u001b[0m\u001b[0;34m(\u001b[0m\u001b[0mX\u001b[0m\u001b[0;34m,\u001b[0m \u001b[0my_batch\u001b[0m\u001b[0;34m)\u001b[0m\u001b[0;34m\u001b[0m\u001b[0m\n\u001b[0m\u001b[1;32m     35\u001b[0m \u001b[0;31m#         for x_batch, y_batch in datagen.flow(x_train, y_train, batch_size=32):\u001b[0m\u001b[0;34m\u001b[0m\u001b[0;34m\u001b[0m\u001b[0m\n\u001b[1;32m     36\u001b[0m \u001b[0;31m#             x_batch =\u001b[0m\u001b[0;34m\u001b[0m\u001b[0;34m\u001b[0m\u001b[0m\n",
      "\u001b[0;32m/home/zhouzixuan/anaconda2/lib/python2.7/site-packages/keras/engine/training.pyc\u001b[0m in \u001b[0;36mfit\u001b[0;34m(self, x, y, batch_size, epochs, verbose, callbacks, validation_split, validation_data, shuffle, class_weight, sample_weight, initial_epoch, steps_per_epoch, validation_steps, **kwargs)\u001b[0m\n\u001b[1;32m   1667\u001b[0m                               \u001b[0minitial_epoch\u001b[0m\u001b[0;34m=\u001b[0m\u001b[0minitial_epoch\u001b[0m\u001b[0;34m,\u001b[0m\u001b[0;34m\u001b[0m\u001b[0m\n\u001b[1;32m   1668\u001b[0m                               \u001b[0msteps_per_epoch\u001b[0m\u001b[0;34m=\u001b[0m\u001b[0msteps_per_epoch\u001b[0m\u001b[0;34m,\u001b[0m\u001b[0;34m\u001b[0m\u001b[0m\n\u001b[0;32m-> 1669\u001b[0;31m                               validation_steps=validation_steps)\n\u001b[0m\u001b[1;32m   1670\u001b[0m \u001b[0;34m\u001b[0m\u001b[0m\n\u001b[1;32m   1671\u001b[0m     def evaluate(self, x=None, y=None,\n",
      "\u001b[0;32m/home/zhouzixuan/anaconda2/lib/python2.7/site-packages/keras/engine/training.pyc\u001b[0m in \u001b[0;36m_fit_loop\u001b[0;34m(self, f, ins, out_labels, batch_size, epochs, verbose, callbacks, val_f, val_ins, shuffle, callback_metrics, initial_epoch, steps_per_epoch, validation_steps)\u001b[0m\n\u001b[1;32m   1204\u001b[0m                         \u001b[0mins_batch\u001b[0m\u001b[0;34m[\u001b[0m\u001b[0mi\u001b[0m\u001b[0;34m]\u001b[0m \u001b[0;34m=\u001b[0m \u001b[0mins_batch\u001b[0m\u001b[0;34m[\u001b[0m\u001b[0mi\u001b[0m\u001b[0;34m]\u001b[0m\u001b[0;34m.\u001b[0m\u001b[0mtoarray\u001b[0m\u001b[0;34m(\u001b[0m\u001b[0;34m)\u001b[0m\u001b[0;34m\u001b[0m\u001b[0m\n\u001b[1;32m   1205\u001b[0m \u001b[0;34m\u001b[0m\u001b[0m\n\u001b[0;32m-> 1206\u001b[0;31m                     \u001b[0mouts\u001b[0m \u001b[0;34m=\u001b[0m \u001b[0mf\u001b[0m\u001b[0;34m(\u001b[0m\u001b[0mins_batch\u001b[0m\u001b[0;34m)\u001b[0m\u001b[0;34m\u001b[0m\u001b[0m\n\u001b[0m\u001b[1;32m   1207\u001b[0m                     \u001b[0;32mif\u001b[0m \u001b[0;32mnot\u001b[0m \u001b[0misinstance\u001b[0m\u001b[0;34m(\u001b[0m\u001b[0mouts\u001b[0m\u001b[0;34m,\u001b[0m \u001b[0mlist\u001b[0m\u001b[0;34m)\u001b[0m\u001b[0;34m:\u001b[0m\u001b[0;34m\u001b[0m\u001b[0m\n\u001b[1;32m   1208\u001b[0m                         \u001b[0mouts\u001b[0m \u001b[0;34m=\u001b[0m \u001b[0;34m[\u001b[0m\u001b[0mouts\u001b[0m\u001b[0;34m]\u001b[0m\u001b[0;34m\u001b[0m\u001b[0m\n",
      "\u001b[0;32m/home/zhouzixuan/anaconda2/lib/python2.7/site-packages/keras/backend/tensorflow_backend.pyc\u001b[0m in \u001b[0;36m__call__\u001b[0;34m(self, inputs)\u001b[0m\n\u001b[1;32m   2473\u001b[0m         \u001b[0msession\u001b[0m \u001b[0;34m=\u001b[0m \u001b[0mget_session\u001b[0m\u001b[0;34m(\u001b[0m\u001b[0;34m)\u001b[0m\u001b[0;34m\u001b[0m\u001b[0m\n\u001b[1;32m   2474\u001b[0m         updated = session.run(fetches=fetches, feed_dict=feed_dict,\n\u001b[0;32m-> 2475\u001b[0;31m                               **self.session_kwargs)\n\u001b[0m\u001b[1;32m   2476\u001b[0m         \u001b[0;32mreturn\u001b[0m \u001b[0mupdated\u001b[0m\u001b[0;34m[\u001b[0m\u001b[0;34m:\u001b[0m\u001b[0mlen\u001b[0m\u001b[0;34m(\u001b[0m\u001b[0mself\u001b[0m\u001b[0;34m.\u001b[0m\u001b[0moutputs\u001b[0m\u001b[0;34m)\u001b[0m\u001b[0;34m]\u001b[0m\u001b[0;34m\u001b[0m\u001b[0m\n\u001b[1;32m   2477\u001b[0m \u001b[0;34m\u001b[0m\u001b[0m\n",
      "\u001b[0;32m/home/zhouzixuan/anaconda2/lib/python2.7/site-packages/tensorflow/python/client/session.pyc\u001b[0m in \u001b[0;36mrun\u001b[0;34m(self, fetches, feed_dict, options, run_metadata)\u001b[0m\n\u001b[1;32m    893\u001b[0m     \u001b[0;32mtry\u001b[0m\u001b[0;34m:\u001b[0m\u001b[0;34m\u001b[0m\u001b[0m\n\u001b[1;32m    894\u001b[0m       result = self._run(None, fetches, feed_dict, options_ptr,\n\u001b[0;32m--> 895\u001b[0;31m                          run_metadata_ptr)\n\u001b[0m\u001b[1;32m    896\u001b[0m       \u001b[0;32mif\u001b[0m \u001b[0mrun_metadata\u001b[0m\u001b[0;34m:\u001b[0m\u001b[0;34m\u001b[0m\u001b[0m\n\u001b[1;32m    897\u001b[0m         \u001b[0mproto_data\u001b[0m \u001b[0;34m=\u001b[0m \u001b[0mtf_session\u001b[0m\u001b[0;34m.\u001b[0m\u001b[0mTF_GetBuffer\u001b[0m\u001b[0;34m(\u001b[0m\u001b[0mrun_metadata_ptr\u001b[0m\u001b[0;34m)\u001b[0m\u001b[0;34m\u001b[0m\u001b[0m\n",
      "\u001b[0;32m/home/zhouzixuan/anaconda2/lib/python2.7/site-packages/tensorflow/python/client/session.pyc\u001b[0m in \u001b[0;36m_run\u001b[0;34m(self, handle, fetches, feed_dict, options, run_metadata)\u001b[0m\n\u001b[1;32m   1122\u001b[0m     \u001b[0;32mif\u001b[0m \u001b[0mfinal_fetches\u001b[0m \u001b[0;32mor\u001b[0m \u001b[0mfinal_targets\u001b[0m \u001b[0;32mor\u001b[0m \u001b[0;34m(\u001b[0m\u001b[0mhandle\u001b[0m \u001b[0;32mand\u001b[0m \u001b[0mfeed_dict_tensor\u001b[0m\u001b[0;34m)\u001b[0m\u001b[0;34m:\u001b[0m\u001b[0;34m\u001b[0m\u001b[0m\n\u001b[1;32m   1123\u001b[0m       results = self._do_run(handle, final_targets, final_fetches,\n\u001b[0;32m-> 1124\u001b[0;31m                              feed_dict_tensor, options, run_metadata)\n\u001b[0m\u001b[1;32m   1125\u001b[0m     \u001b[0;32melse\u001b[0m\u001b[0;34m:\u001b[0m\u001b[0;34m\u001b[0m\u001b[0m\n\u001b[1;32m   1126\u001b[0m       \u001b[0mresults\u001b[0m \u001b[0;34m=\u001b[0m \u001b[0;34m[\u001b[0m\u001b[0;34m]\u001b[0m\u001b[0;34m\u001b[0m\u001b[0m\n",
      "\u001b[0;32m/home/zhouzixuan/anaconda2/lib/python2.7/site-packages/tensorflow/python/client/session.pyc\u001b[0m in \u001b[0;36m_do_run\u001b[0;34m(self, handle, target_list, fetch_list, feed_dict, options, run_metadata)\u001b[0m\n\u001b[1;32m   1319\u001b[0m     \u001b[0;32mif\u001b[0m \u001b[0mhandle\u001b[0m \u001b[0;32mis\u001b[0m \u001b[0mNone\u001b[0m\u001b[0;34m:\u001b[0m\u001b[0;34m\u001b[0m\u001b[0m\n\u001b[1;32m   1320\u001b[0m       return self._do_call(_run_fn, self._session, feeds, fetches, targets,\n\u001b[0;32m-> 1321\u001b[0;31m                            options, run_metadata)\n\u001b[0m\u001b[1;32m   1322\u001b[0m     \u001b[0;32melse\u001b[0m\u001b[0;34m:\u001b[0m\u001b[0;34m\u001b[0m\u001b[0m\n\u001b[1;32m   1323\u001b[0m       \u001b[0;32mreturn\u001b[0m \u001b[0mself\u001b[0m\u001b[0;34m.\u001b[0m\u001b[0m_do_call\u001b[0m\u001b[0;34m(\u001b[0m\u001b[0m_prun_fn\u001b[0m\u001b[0;34m,\u001b[0m \u001b[0mself\u001b[0m\u001b[0;34m.\u001b[0m\u001b[0m_session\u001b[0m\u001b[0;34m,\u001b[0m \u001b[0mhandle\u001b[0m\u001b[0;34m,\u001b[0m \u001b[0mfeeds\u001b[0m\u001b[0;34m,\u001b[0m \u001b[0mfetches\u001b[0m\u001b[0;34m)\u001b[0m\u001b[0;34m\u001b[0m\u001b[0m\n",
      "\u001b[0;32m/home/zhouzixuan/anaconda2/lib/python2.7/site-packages/tensorflow/python/client/session.pyc\u001b[0m in \u001b[0;36m_do_call\u001b[0;34m(self, fn, *args)\u001b[0m\n\u001b[1;32m   1325\u001b[0m   \u001b[0;32mdef\u001b[0m \u001b[0m_do_call\u001b[0m\u001b[0;34m(\u001b[0m\u001b[0mself\u001b[0m\u001b[0;34m,\u001b[0m \u001b[0mfn\u001b[0m\u001b[0;34m,\u001b[0m \u001b[0;34m*\u001b[0m\u001b[0margs\u001b[0m\u001b[0;34m)\u001b[0m\u001b[0;34m:\u001b[0m\u001b[0;34m\u001b[0m\u001b[0m\n\u001b[1;32m   1326\u001b[0m     \u001b[0;32mtry\u001b[0m\u001b[0;34m:\u001b[0m\u001b[0;34m\u001b[0m\u001b[0m\n\u001b[0;32m-> 1327\u001b[0;31m       \u001b[0;32mreturn\u001b[0m \u001b[0mfn\u001b[0m\u001b[0;34m(\u001b[0m\u001b[0;34m*\u001b[0m\u001b[0margs\u001b[0m\u001b[0;34m)\u001b[0m\u001b[0;34m\u001b[0m\u001b[0m\n\u001b[0m\u001b[1;32m   1328\u001b[0m     \u001b[0;32mexcept\u001b[0m \u001b[0merrors\u001b[0m\u001b[0;34m.\u001b[0m\u001b[0mOpError\u001b[0m \u001b[0;32mas\u001b[0m \u001b[0me\u001b[0m\u001b[0;34m:\u001b[0m\u001b[0;34m\u001b[0m\u001b[0m\n\u001b[1;32m   1329\u001b[0m       \u001b[0mmessage\u001b[0m \u001b[0;34m=\u001b[0m \u001b[0mcompat\u001b[0m\u001b[0;34m.\u001b[0m\u001b[0mas_text\u001b[0m\u001b[0;34m(\u001b[0m\u001b[0me\u001b[0m\u001b[0;34m.\u001b[0m\u001b[0mmessage\u001b[0m\u001b[0;34m)\u001b[0m\u001b[0;34m\u001b[0m\u001b[0m\n",
      "\u001b[0;32m/home/zhouzixuan/anaconda2/lib/python2.7/site-packages/tensorflow/python/client/session.pyc\u001b[0m in \u001b[0;36m_run_fn\u001b[0;34m(session, feed_dict, fetch_list, target_list, options, run_metadata)\u001b[0m\n\u001b[1;32m   1304\u001b[0m           return tf_session.TF_Run(session, options,\n\u001b[1;32m   1305\u001b[0m                                    \u001b[0mfeed_dict\u001b[0m\u001b[0;34m,\u001b[0m \u001b[0mfetch_list\u001b[0m\u001b[0;34m,\u001b[0m \u001b[0mtarget_list\u001b[0m\u001b[0;34m,\u001b[0m\u001b[0;34m\u001b[0m\u001b[0m\n\u001b[0;32m-> 1306\u001b[0;31m                                    status, run_metadata)\n\u001b[0m\u001b[1;32m   1307\u001b[0m \u001b[0;34m\u001b[0m\u001b[0m\n\u001b[1;32m   1308\u001b[0m     \u001b[0;32mdef\u001b[0m \u001b[0m_prun_fn\u001b[0m\u001b[0;34m(\u001b[0m\u001b[0msession\u001b[0m\u001b[0;34m,\u001b[0m \u001b[0mhandle\u001b[0m\u001b[0;34m,\u001b[0m \u001b[0mfeed_dict\u001b[0m\u001b[0;34m,\u001b[0m \u001b[0mfetch_list\u001b[0m\u001b[0;34m)\u001b[0m\u001b[0;34m:\u001b[0m\u001b[0;34m\u001b[0m\u001b[0m\n",
      "\u001b[0;31mKeyboardInterrupt\u001b[0m: "
     ]
    }
   ],
   "source": [
    "train(model_start)"
   ]
  },
  {
   "cell_type": "code",
   "execution_count": null,
   "metadata": {
    "collapsed": true
   },
   "outputs": [],
   "source": []
  }
 ],
 "metadata": {
  "kernelspec": {
   "display_name": "Python 2",
   "language": "python",
   "name": "python2"
  },
  "language_info": {
   "codemirror_mode": {
    "name": "ipython",
    "version": 2
   },
   "file_extension": ".py",
   "mimetype": "text/x-python",
   "name": "python",
   "nbconvert_exporter": "python",
   "pygments_lexer": "ipython2",
   "version": "2.7.13"
  }
 },
 "nbformat": 4,
 "nbformat_minor": 0
}
