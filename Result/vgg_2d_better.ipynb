{
 "cells": [
  {
   "cell_type": "code",
   "execution_count": 1,
   "metadata": {
    "collapsed": false
   },
   "outputs": [
    {
     "name": "stderr",
     "output_type": "stream",
     "text": [
      "Using TensorFlow backend.\n"
     ]
    }
   ],
   "source": [
    "#%autoreload\n",
    "from keras.preprocessing import image\n",
    "from keras import applications\n",
    "from keras.models import Sequential\n",
    "from keras.applications import vgg16\n",
    "from keras.applications.vgg16 import VGG16\n",
    "from keras.applications.vgg16 import preprocess_input\n",
    "from keras.models import Model\n",
    "from keras.layers import Conv2D, Conv3D,Input, ZeroPadding3D, Reshape\n",
    "from keras.layers.convolutional import Convolution2D, Convolution3D, MaxPooling2D, ZeroPadding2D,ZeroPadding3D \n",
    "from keras.layers.core import Reshape\n",
    "import os\n",
    "from keras.utils import np_utils\n",
    "from keras.preprocessing.image import ImageDataGenerator\n",
    "from keras.models import Sequential\n",
    "from keras.callbacks import CSVLogger\n",
    "from keras.models import Sequential\n",
    "from keras.layers.core import Flatten, Dense, Dropout\n",
    "from keras.optimizers import SGD\n",
    "import numpy as np\n",
    "import keras\n",
    "import keras.backend as K\n",
    "from keras.callbacks import ModelCheckpoint\n",
    "#import imp\n",
    "#imp.reload(parse_data)"
   ]
  },
  {
   "cell_type": "code",
   "execution_count": 2,
   "metadata": {
    "collapsed": true
   },
   "outputs": [],
   "source": [
    "def root_mean_squared_error(y_true, y_pred):\n",
    "    return K.sqrt(K.mean(K.square(y_pred - y_true), axis=-1))\n",
    "   # return np.linalg.norm(y_pred-y_true)/np.linalg.norm(y_true)"
   ]
  },
  {
   "cell_type": "code",
   "execution_count": 3,
   "metadata": {
    "collapsed": false
   },
   "outputs": [
    {
     "name": "stdout",
     "output_type": "stream",
     "text": [
      "_________________________________________________________________\n",
      "Layer (type)                 Output Shape              Param #   \n",
      "=================================================================\n",
      "input_2 (InputLayer)         (None, 299, 299, 4)       0         \n",
      "_________________________________________________________________\n",
      "conv2d_1 (Conv2D)            (None, 297, 297, 3)       111       \n",
      "_________________________________________________________________\n",
      "zero_padding2d_1 (ZeroPaddin (None, 299, 299, 3)       0         \n",
      "_________________________________________________________________\n",
      "reshape_1 (Reshape)          (None, 299, 299, 3)       0         \n",
      "_________________________________________________________________\n",
      "vgg16 (Model)                (None, 9, 9, 512)         14714688  \n",
      "_________________________________________________________________\n",
      "flatten_1 (Flatten)          (None, 41472)             0         \n",
      "_________________________________________________________________\n",
      "my_dense_2 (Dense)           (None, 1024)              42468352  \n",
      "_________________________________________________________________\n",
      "dropout_1 (Dropout)          (None, 1024)              0         \n",
      "_________________________________________________________________\n",
      "dense_1 (Dense)              (None, 512)               524800    \n",
      "_________________________________________________________________\n",
      "dropout_2 (Dropout)          (None, 512)               0         \n",
      "_________________________________________________________________\n",
      "dense_2 (Dense)              (None, 3)                 1539      \n",
      "=================================================================\n",
      "Total params: 57,709,490\n",
      "Trainable params: 57,709,490\n",
      "Non-trainable params: 0\n",
      "_________________________________________________________________\n"
     ]
    }
   ],
   "source": [
    "model_vgg16 = vgg16.VGG16(weights='imagenet', include_top=False, input_shape=(299,299,3))\n",
    "input_x = Input((299,299,4))\n",
    "x = Conv2D(3,(3,3), activation='relu', data_format=\"channels_last\")(input_x)\n",
    "x = ZeroPadding2D((1,1))(x)\n",
    "x = Reshape((299,299,3))(x)\n",
    "x = model_vgg16(x)\n",
    "\n",
    "flatten = Flatten()\n",
    "new_layer2 = Dense(1024, activation='relu', name='my_dense_2')\n",
    "out2 = new_layer2(flatten(x))\n",
    "x = Dropout(0.5)(out2)\n",
    "x = Dense(512, activation='relu')(x)\n",
    "x = Dropout(0.5)(x)\n",
    "preds = Dense(3, activation = 'relu')(x)\n",
    "\n",
    "model_start = Model(input_x, preds)\n",
    "model_start.compile(loss='mean_squared_error', optimizer=keras.optimizers.Adam(lr=1e-4),\n",
    "            metrics=['mean_squared_error'])\n",
    "model_start.summary()"
   ]
  },
  {
   "cell_type": "code",
   "execution_count": 3,
   "metadata": {
    "collapsed": true
   },
   "outputs": [],
   "source": [
    "object_path = \"/home/zhouzixuan/notebooks/proj_new/3d_data/\"\n",
    "dev_path = \"/home/zhouzixuan/notebooks/proj_new/3d_data/\"\n",
    "filename =\"vgg\"\n",
    "img_width, img_height = 299, 299"
   ]
  },
  {
   "cell_type": "code",
   "execution_count": 4,
   "metadata": {
    "collapsed": false
   },
   "outputs": [
    {
     "name": "stdout",
     "output_type": "stream",
     "text": [
      "(224, 3)\n",
      "(224, 299, 299, 4)\n"
     ]
    }
   ],
   "source": [
    "dev_num = 10\n",
    "X_dev = np.empty([0,299,299,4])\n",
    "y_dev = np.empty([0,3])\n",
    "for k in range(dev_num):\n",
    "    x_dev = np.load(dev_path+str(90+k)+\"_x.npy\") * rescale\n",
    "    d_dev = np.load(dev_path+str(90+k)+\"_d.npy\")\n",
    "    tmp1 = (np.concatenate((x_dev,np.expand_dims(d_dev, axis=3)), axis=3)) \n",
    "    X_dev = np.vstack([X_dev, tmp1])\n",
    "    tmp2 = np.load(dev_path+str(90+k)+\"_y.npy\")\n",
    "    y_dev = np.vstack([y_dev, tmp2])\n",
    "print y_dev.shape\n",
    "print X_dev.shape"
   ]
  },
  {
   "cell_type": "code",
   "execution_count": 7,
   "metadata": {
    "collapsed": false
   },
   "outputs": [
    {
     "name": "stdout",
     "output_type": "stream",
     "text": [
      "224/224 [==============================] - 178s 797ms/step\n",
      "----val_loss & l2_error----:\n",
      "[2.633326836994716, 1.4532325097492762]\n"
     ]
    }
   ],
   "source": [
    "dev_loss = model_start.evaluate(x = X_dev, y = y_dev)\n",
    "print \"----val_loss & l2_error----:\"\n",
    "print dev_loss"
   ]
  },
  {
   "cell_type": "code",
   "execution_count": 5,
   "metadata": {
    "collapsed": true
   },
   "outputs": [],
   "source": [
    "def train(model):\n",
    "    filename = \"vgg2d_\"\n",
    "    fh = open(filename + 'report.txt','w')\n",
    "    csv_logger = CSVLogger('logvgg.csv', append=True, separator=';') \n",
    "    f_train = open(filename + 'train_report.txt',\"a\", 0)\n",
    "    f_train_step = open(filename + 'step_report.txt',\"a\", 0)\n",
    "    f_dev = open(filename + 'dev_report.txt',\"a\", 0)\n",
    "    batch = 32\n",
    "    epochs = 10\n",
    "    batch_num = 90\n",
    "    rescale=1. / 255\n",
    "    filepath_best=\"/home/zhouzixuan/proj/data/weights.best.hdf5\"\n",
    "    if os.path.exists(filepath_best):\n",
    "        model.load_weights(filepath_best)\n",
    "        print \"load weight success!\"\n",
    "    for e in range(epochs):\n",
    "        print('Epoch', e)\n",
    "        for b in range(batch_num):\n",
    "            x_batch = np.load(object_path+str(b)+\"_x.npy\")\n",
    "            d_batch = np.load(object_path+str(b)+\"_d.npy\")\n",
    "            X = (np.concatenate((x_batch,np.expand_dims(d_batch, axis=3)), axis=3))           \n",
    "            y_batch = np.load(object_path+str(b)+\"_y.npy\")            \n",
    "            checkpoint = ModelCheckpoint(filepath=filepath_best,monitor='loss', verbose=1,save_best_only=True, mode='min')\n",
    "            res = model.fit(X, y_batch,callbacks=[checkpoint],verbose=0)\n",
    "            print str(res.history)\n",
    "            f_train_step.write(str(res.history))\n",
    "            f_train_step.write(\"\\n\")\n",
    "        train_loss = model.evaluate(x = X, y = y_batch)\n",
    "        f_train.write(str(train_loss))\n",
    "        dev_loss = model.evaluate(x = X_dev, y = y_dev)\n",
    "        f_dev.write(str(dev_loss))\n",
    "        print \"----val_loss & l2_error----:\"\n",
    "        print dev_loss\n",
    "    f_train.close()\n",
    "    f_train_step.close()\n",
    "    f_dev.close()"
   ]
  },
  {
   "cell_type": "code",
   "execution_count": null,
   "metadata": {
    "collapsed": false
   },
   "outputs": [
    {
     "name": "stdout",
     "output_type": "stream",
     "text": [
      "load weight success!\n",
      "('Epoch', 4)\n"
     ]
    }
   ],
   "source": [
    "train(model_start)"
   ]
  },
  {
   "cell_type": "code",
   "execution_count": null,
   "metadata": {
    "collapsed": true
   },
   "outputs": [],
   "source": []
  }
 ],
 "metadata": {
  "kernelspec": {
   "display_name": "Python 2",
   "language": "python",
   "name": "python2"
  },
  "language_info": {
   "codemirror_mode": {
    "name": "ipython",
    "version": 2
   },
   "file_extension": ".py",
   "mimetype": "text/x-python",
   "name": "python",
   "nbconvert_exporter": "python",
   "pygments_lexer": "ipython2",
   "version": "2.7.13"
  }
 },
 "nbformat": 4,
 "nbformat_minor": 0
}
