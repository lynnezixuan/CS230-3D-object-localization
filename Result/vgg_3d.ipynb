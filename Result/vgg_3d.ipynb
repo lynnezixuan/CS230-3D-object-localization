{
 "cells": [
  {
   "cell_type": "code",
   "execution_count": 1,
   "metadata": {
    "collapsed": false
   },
   "outputs": [
    {
     "name": "stderr",
     "output_type": "stream",
     "text": [
      "Using TensorFlow backend.\n"
     ]
    }
   ],
   "source": [
    "#%autoreload\n",
    "from keras.preprocessing import image\n",
    "from keras import applications\n",
    "from keras.models import Sequential\n",
    "from keras.applications import vgg16\n",
    "from keras.applications.vgg16 import VGG16\n",
    "from keras.applications.vgg16 import preprocess_input\n",
    "from keras.models import Model\n",
    "from keras.layers import Conv2D, Conv3D,Input, ZeroPadding3D, Reshape\n",
    "from keras.layers.convolutional import Convolution2D, Convolution3D, MaxPooling2D, ZeroPadding2D,ZeroPadding3D \n",
    "from keras.layers.core import Reshape\n",
    "import os\n",
    "from keras.utils import np_utils\n",
    "from keras.preprocessing.image import ImageDataGenerator\n",
    "from keras.models import Sequential\n",
    "from keras.callbacks import CSVLogger\n",
    "from keras.models import Sequential\n",
    "from keras.layers.core import Flatten, Dense, Dropout\n",
    "from keras.optimizers import SGD\n",
    "import numpy as np\n",
    "import keras\n",
    "import keras.backend as K\n",
    "import tensorflow as tf\n",
    "#import imp\n",
    "#imp.reload(parse_data)"
   ]
  },
  {
   "cell_type": "code",
   "execution_count": 2,
   "metadata": {
    "collapsed": false
   },
   "outputs": [
    {
     "name": "stdout",
     "output_type": "stream",
     "text": [
      "2.1.3\n"
     ]
    }
   ],
   "source": [
    "print keras.__version__"
   ]
  },
  {
   "cell_type": "code",
   "execution_count": 2,
   "metadata": {
    "collapsed": true
   },
   "outputs": [],
   "source": [
    "def mean_pred(y_true, y_pred):\n",
    "    return keras.backend.l2_normalize(y_pred-y_true, axis=None)/keras.backend.l2_normalize(y_true, axis=None)\n",
    "   # return np.linalg.norm(y_pred-y_true)/np.linalg.norm(y_true)"
   ]
  },
  {
   "cell_type": "code",
   "execution_count": 3,
   "metadata": {
    "collapsed": false
   },
   "outputs": [
    {
     "name": "stdout",
     "output_type": "stream",
     "text": [
      "_________________________________________________________________\n",
      "Layer (type)                 Output Shape              Param #   \n",
      "=================================================================\n",
      "input_2 (InputLayer)         (None, 299, 299, 10, 3)   0         \n",
      "_________________________________________________________________\n",
      "conv3d_1 (Conv3D)            (None, 297, 297, 1, 3)    813       \n",
      "_________________________________________________________________\n",
      "zero_padding3d_1 (ZeroPaddin (None, 299, 299, 1, 3)    0         \n",
      "_________________________________________________________________\n",
      "reshape_1 (Reshape)          (None, 299, 299, 3)       0         \n",
      "_________________________________________________________________\n",
      "vgg16 (Model)                (None, 9, 9, 512)         14714688  \n",
      "_________________________________________________________________\n",
      "flatten_1 (Flatten)          (None, 41472)             0         \n",
      "_________________________________________________________________\n",
      "my_dense_2 (Dense)           (None, 1024)              42468352  \n",
      "=================================================================\n",
      "Total params: 57,183,853\n",
      "Trainable params: 57,183,853\n",
      "Non-trainable params: 0\n",
      "_________________________________________________________________\n"
     ]
    }
   ],
   "source": [
    "model_vgg16 = vgg16.VGG16(weights='imagenet', include_top=False, input_shape=(299,299,3))\n",
    "input_x = Input((299,299,10,3))\n",
    "x = Conv3D(3,(3,3,10), activation='relu', data_format=\"channels_last\")(input_x)\n",
    "x = ZeroPadding3D((1,1,0))(x)\n",
    "x = Reshape((299,299,3))(x)\n",
    "x = model_vgg16(x)\n",
    "\n",
    "flatten = Flatten()\n",
    "new_layer2 = Dense(1024, activation='relu', name='my_dense_2')\n",
    "out2 = new_layer2(flatten(x))\n",
    "x = Dense(512, activation='relu')(out2)\n",
    "preds = Dense(3, activation = 'relu')(x)\n",
    "\n",
    "model_start = Model(input_x, out2)\n",
    "model_start.compile(loss='mean_squared_error', optimizer=SGD(lr=1e-4, momentum=0.9),\n",
    "            metrics=[mean_pred])\n",
    "model_start.summary()"
   ]
  },
  {
   "cell_type": "code",
   "execution_count": 33,
   "metadata": {
    "collapsed": false
   },
   "outputs": [
    {
     "name": "stdout",
     "output_type": "stream",
     "text": [
      "(32, 299, 299, 3, 0)\n",
      "(32, 299, 299, 3, 1)\n",
      "(32, 299, 299, 3, 2)\n",
      "(32, 299, 299, 3, 3)\n",
      "(32, 299, 299, 3, 4)\n",
      "(32, 299, 299, 3, 0)\n",
      "(32, 299, 299, 3, 1)\n",
      "(32, 299, 299, 3, 2)\n",
      "(32, 299, 299, 3, 3)\n",
      "(32, 299, 299, 3, 4)\n",
      "45574735.0\n",
      "45574735.0\n"
     ]
    }
   ],
   "source": [
    "object_path = \"/home/zhouzixuan/proj/data/train/35/\"\n",
    "dev_path = \"/home/zhouzixuan/proj/data/dev/35/\"\n",
    "filename =\"vgg\"\n",
    "d_batch = np.load(object_path+str(19)+\"_d.npy\")\n",
    "x_batch = np.load(object_path+str(19)+\"_x.npy\")\n",
    "d_round = np.floor(d_batch/51.0)\n",
    "sess = tf.InteractiveSession()\n",
    "v = tf.transpose(tf.one_hot(d_round, depth=5, axis=2, on_value=1.0, off_value=0.0), perm=[0,1,3,2])\n",
    "v = v.eval()\n",
    "import time\n",
    "combine = np.empty([32, 299, 299, 3, 0])\n",
    "for i in range(5):\n",
    "    i = 1\n",
    "    v_tmp = v[:,:,:,i]\n",
    "    v_tmp = np.transpose(np.broadcast_to(v_tmp,(3, 32, 299, 299)),(1,2,3,0))\n",
    "    v_tmp = v_tmp == 1\n",
    "    x_tmp = np.multiply(x_batch, v_tmp)\n",
    "    x_cur = np.expand_dims(x_tmp, axis = 4)\n",
    "    print combine.shape\n",
    "    combine = np.concatenate((combine, x_cur), axis=4)\n",
    "com = combine\n",
    "combine = np.empty([32, 299, 299, 3, 0])"
   ]
  },
  {
   "cell_type": "code",
   "execution_count": 14,
   "metadata": {
    "collapsed": false
   },
   "outputs": [],
   "source": [
    "def train(model):\n",
    "\n",
    "    fh = open(filename + 'report.txt','w')\n",
    "    csv_logger = CSVLogger('logvgg.csv', append=True, separator=';')\n",
    "    \n",
    "    datagen = ImageDataGenerator(\n",
    "    rescale=1. / 255,\n",
    "    horizontal_flip=False)\n",
    "    \n",
    "    train_datagen = ImageDataGenerator(\n",
    "    rescale=1. / 255,\n",
    "    rotation_range=0.,\n",
    "    width_shift_range=0.1,\n",
    "    height_shift_range=0.1)\n",
    "    \n",
    "    test_datagen = ImageDataGenerator(rescale=1./255)\n",
    "    \n",
    "    train_generator = train_datagen.flow(x_train, y_train)\n",
    "    validation_generator = test_datagen.flow(X_rgb, y_rgb)\n",
    "    \n",
    "    \n",
    "    batch = 32\n",
    "    epochs = 20\n",
    "    batch_num = 60\n",
    "    rescale=1. / 255\n",
    "    for e in range(epochs):\n",
    "        print('Epoch', e)\n",
    "        batches = 0\n",
    "        for b in range(batch_num):\n",
    "            x_batch = np.load(object_path+str(b)+\"_x.npy\") * rescale\n",
    "            d_batch = np.load(object_path+str(b)+\"_d.npy\")\n",
    "            d_round = np.round(d_batch/25.5)\n",
    "            \n",
    "            y_batch = np.load(object_path+str(b)+\"_y.npy\")\n",
    "            model.fit(x_batch, y_batch)\n",
    "#         for x_batch, y_batch in datagen.flow(x_train, y_train, batch_size=32):\n",
    "#             x_batch = \n",
    "#             model.fit(x_batch, y_batch)\n",
    "#             batches += 1\n",
    "#             if batches >= len(x_train) / 32:\n",
    "#             # we need to break the loop by hand because\n",
    "#             # the generator loops indefinitely\n",
    "#                 break"
   ]
  },
  {
   "cell_type": "code",
   "execution_count": null,
   "metadata": {
    "collapsed": true
   },
   "outputs": [],
   "source": []
  }
 ],
 "metadata": {
  "kernelspec": {
   "display_name": "Python 2",
   "language": "python",
   "name": "python2"
  },
  "language_info": {
   "codemirror_mode": {
    "name": "ipython",
    "version": 2
   },
   "file_extension": ".py",
   "mimetype": "text/x-python",
   "name": "python",
   "nbconvert_exporter": "python",
   "pygments_lexer": "ipython2",
   "version": "2.7.13"
  }
 },
 "nbformat": 4,
 "nbformat_minor": 0
}
